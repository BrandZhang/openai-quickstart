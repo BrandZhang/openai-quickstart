{
 "cells": [
  {
   "cell_type": "markdown",
   "id": "69032b4b-b031-4020-beb0-e8dfd22b660e",
   "metadata": {},
   "source": [
    "# LangChain 实战：房产销售聊天机器人"
   ]
  },
  {
   "cell_type": "markdown",
   "id": "0f3e2d5a-c2ff-4faf-b153-d1751c25fae0",
   "metadata": {},
   "source": [
    "## 使用 GPT-4 构造销售话术数据\n",
    "\n",
    "ChatGPT 分享链接：https://chat.openai.com/share/f3e4b9b0-95fb-4c6a-a3c7-f901dd194c91\n",
    "\n",
    "\n",
    "使用 ChatGPT 构造销售数据的 Prompt 示例：\n",
    "\n",
    "```\n",
    "你是中国顶级的电脑销售，现在培训职场新人，请给出100条实用的销售话术。\n",
    "\n",
    "每条销售话术以如下格式给出：\n",
    "[客户问题]\n",
    "[销售回答]\n",
    "\n",
    "```\n",
    "\n",
    "GPT-4 回复结果：\n",
    "\n",
    "```\n",
    "在电脑销售行业中，精心准备的销售话术可以极大地提高成交率。以下是一些适用于电脑销售的实用话术：\n",
    "\n",
    "[客户问题] 我的预算有限，这台电脑似乎超出了我的预算。 \n",
    "[销售回答] 我理解您的预算考虑，让我们看看哪些配置是您真正需要的，也许我们可以调整配置来满足您的预算，同时保证您的核心需求得到满足。\n",
    "\n",
    "[客户问题] 我不确定我是否需要这么高配置的电脑。 \n",
    "[销售回答] 没问题，让我们先了解一下您通常会用电脑做什么，这样我可以帮您找到最适合您需求的配置。\n",
    "\n",
    "[客户问题] 我为什么要选择你们的品牌，而不是其他更知名的品牌呢？ \n",
    "[销售回答] 我们的品牌致力于为客户提供最优质的产品和服务。相比其他品牌，我们提供更个性化的服务和更有竞争力的价格，同时保证了高品质和良好的售后支持。\n",
    "\n",
    "[客户问题] 我需要一台可以处理高强度工作任务的电脑，你们有合适的推荐吗？ \n",
    "[销售回答] 当然，我们的高性能系列电脑专为处理复杂任务和高负载工作设计，它们搭载了最新的处理器和高速内存，可以满足您的所有工作需求。\n",
    "\n",
    "[客户问题] 我担心购买后可能遇到技术问题。 \n",
    "[销售回答] 我们提供全面的售后服务保障，包括详尽的用户手册和专业的客服支持。如果您遇到任何问题，我们随时准备帮助您解决。\n",
    "\n",
    "```\n",
    "\n",
    "\n",
    "## 使用 Document Transformers 模块来处理原始数据\n",
    "\n",
    "\n",
    "将 ChatGPT 生成的结果保存到 [rea_pc_sales_data.txt](rea_pc_sales_data.txt) 文件中"
   ]
  },
  {
   "cell_type": "code",
   "execution_count": 34,
   "id": "efcee928-b9f4-4e4a-b9fb-f6cbee21b642",
   "metadata": {},
   "outputs": [],
   "source": [
    "with open(\"rea_pc_sales_data.txt\") as f:\n",
    "    real_estate_sales = f.read()"
   ]
  },
  {
   "cell_type": "markdown",
   "id": "a9119556-d2e3-4edf-be16-15837da156f1",
   "metadata": {
    "jupyter": {
     "source_hidden": true
    }
   },
   "source": [
    "### 使用 CharacterTextSplitter 来进行文本分割\n",
    "\n",
    "- 基于单字符来进行文本分割（separator）\n",
    "- 基于字符数来决定文本块长度（chunk_size）\n",
    "\n",
    "参考示例：\n",
    "\n",
    "```python\n",
    "from langchain.text_splitter import CharacterTextSplitter\n",
    "text_splitter = CharacterTextSplitter(        \n",
    "    separator = \"\\n\\n\",\n",
    "    chunk_size = 1000,\n",
    "    chunk_overlap  = 200,\n",
    "    length_function = len,\n",
    "    is_separator_regex = False,\n",
    ")\n",
    "```\n"
   ]
  },
  {
   "cell_type": "code",
   "execution_count": 35,
   "id": "dbe535b8-2bd8-4c31-91d7-eba8aa61b3ef",
   "metadata": {},
   "outputs": [],
   "source": [
    "from langchain.text_splitter import CharacterTextSplitter"
   ]
  },
  {
   "cell_type": "code",
   "execution_count": 36,
   "id": "a4f30d9b-9fc6-4860-a497-0aa8220b9284",
   "metadata": {},
   "outputs": [],
   "source": [
    "text_splitter = CharacterTextSplitter(        \n",
    "    separator = r'\\d+\\.',\n",
    "    chunk_size = 100,\n",
    "    chunk_overlap  = 0,\n",
    "    length_function = len,\n",
    "    is_separator_regex = True,\n",
    ")"
   ]
  },
  {
   "cell_type": "code",
   "execution_count": 37,
   "id": "530f3172-17a5-4924-ad17-284fbca422ae",
   "metadata": {},
   "outputs": [],
   "source": [
    "docs = text_splitter.create_documents([real_estate_sales])"
   ]
  },
  {
   "cell_type": "code",
   "execution_count": 38,
   "id": "3956ec36-706e-4f43-88fc-d704f2984290",
   "metadata": {},
   "outputs": [
    {
     "data": {
      "text/plain": [
       "Document(page_content='[客户问题] 我的预算有限，这台电脑似乎超出了我的预算。 \\n[销售回答] 我理解您的预算考虑，让我们看看哪些配置是您真正需要的，也许我们可以调整配置来满足您的预算，同时保证您的核心需求得到满足。\\n\\n[客户问题] 我不确定我是否需要这么高配置的电脑。 \\n[销售回答] 没问题，让我们先了解一下您通常会用电脑做什么，这样我可以帮您找到最适合您需求的配置。\\n\\n[客户问题] 我为什么要选择你们的品牌，而不是其他更知名的品牌呢？ \\n[销售回答] 我们的品牌致力于为客户提供最优质的产品和服务。相比其他品牌，我们提供更个性化的服务和更有竞争力的价格，同时保证了高品质和良好的售后支持。\\n\\n[客户问题] 我需要一台可以处理高强度工作任务的电脑，你们有合适的推荐吗？ \\n[销售回答] 当然，我们的高性能系列电脑专为处理复杂任务和高负载工作设计，它们搭载了最新的处理器和高速内存，可以满足您的所有工作需求。\\n\\n[客户问题] 我担心购买后可能遇到技术问题。 \\n[销售回答] 我们提供全面的售后服务保障，包括详尽的用户手册和专业的客服支持。如果您遇到任何问题，我们随时准备帮助您解决。\\n\\n[客户问题] 我不太懂电脑配置，不知道怎么选择。\\n[销售回答] 没问题，我们来一步步了解您的需求。您主要用电脑来做什么呢？我会根据您的使用场景为您推荐最合适的配置。\\n\\n[客户问题] 我需要一台游戏电脑，但不想花太多钱。\\n[销售回答] 我明白您的预算考虑，我们有多款性价比高的游戏电脑可以满足您的需求，同时不会超出预算。让我给您介绍一下这款性能优异的电脑。\\n\\n[客户问题] 这台电脑的保修期是多久？\\n[销售回答] 这台电脑享有三年的全国联保服务，任何质量问题都可以免费维修，让您购买无忧。\\n\\n[客户问题] 我经常出差，需要一台轻便的笔记本电脑。\\n[销售回答] 我推荐您看看我们的超薄系列笔记本，它们不仅轻便，而且续航能力强，非常适合经常出差的用户。\\n\\n[客户问题] 我担心电脑到货后不会安装软件。\\n[销售回答] 我们提供上门安装服务，还有详细的使用指导和技术支持，确保您购买后可以无忧使用。\\n\\n[客户问题] 你们的电脑和其他品牌相比有什么优势？\\n[销售回答] 我们的电脑采用了最新的技术和高质量的组件，性能稳定，而且我们提供个性化定制服务，可以根据您的需求量身打造专属电脑。\\n\\n[客户问题] 我需要一台可以处理图形设计工作的电脑。\\n[销售回答] 对于图形设计，您需要一台有强大图形处理能力的电脑。我们这款电脑搭载了高性能显卡和大内存，可以流畅运行各种设计软件。\\n\\n[客户问题] 我需要一台性能好但是外观也要时尚的电脑。\\n[销售回答] 我们的这款电脑不仅性能强大，而且设计时尚，有多种颜色可选，非常符合您的要求。\\n\\n[客户问题] 我家里的网络不太好，这台电脑的网络连接性能怎么样？\\n[销售回答] 这台电脑支持最新的无线连接技术，即使在信号不佳的环境下也能保持稳定的网络连接，不会影响您的上网体验。\\n\\n[客户问题] 我不确定我的配件是否兼容这台电脑。\\n[销售回答] 您可以告诉我您现有的配件型号，我会帮您检查兼容性，并提供最佳的建议。\\n\\n这些话术覆盖了不同客户的常见问题和疑虑，您可以根据这些模板发展出更多适合不同情况的销售话术。')"
      ]
     },
     "execution_count": 38,
     "metadata": {},
     "output_type": "execute_result"
    }
   ],
   "source": [
    "docs[0]"
   ]
  },
  {
   "cell_type": "code",
   "execution_count": 39,
   "id": "73b2d47a-27ae-4cd4-a72a-3809b4c22bff",
   "metadata": {},
   "outputs": [
    {
     "data": {
      "text/plain": [
       "1"
      ]
     },
     "execution_count": 39,
     "metadata": {},
     "output_type": "execute_result"
    }
   ],
   "source": [
    "len(docs)"
   ]
  },
  {
   "cell_type": "markdown",
   "id": "e4617858-ad9c-42eb-a4c3-6bfb7108cdd2",
   "metadata": {},
   "source": [
    "### 使用 Faiss 作为向量数据库，持久化存储房产销售 问答对（QA-Pair）"
   ]
  },
  {
   "cell_type": "code",
   "execution_count": 40,
   "id": "508c2ab2-e187-424f-a43c-ca3d3b1a0550",
   "metadata": {},
   "outputs": [],
   "source": [
    "from langchain.embeddings.openai import OpenAIEmbeddings\n",
    "from langchain.text_splitter import CharacterTextSplitter\n",
    "from langchain.vectorstores import FAISS\n",
    "import os\n",
    "\n",
    "db = FAISS.from_documents(docs, OpenAIEmbeddings(base_url= os.getenv('BASE_URL')))"
   ]
  },
  {
   "cell_type": "code",
   "execution_count": 41,
   "id": "250e0873-95e2-4372-98a5-68c0feb304bb",
   "metadata": {},
   "outputs": [],
   "source": [
    "query = \"有性价比高的电脑么\""
   ]
  },
  {
   "cell_type": "code",
   "execution_count": 42,
   "id": "0d18fcc6-c2be-434b-b8de-9648ac6f83f4",
   "metadata": {},
   "outputs": [],
   "source": [
    "answer_list = db.similarity_search(query)"
   ]
  },
  {
   "cell_type": "code",
   "execution_count": 43,
   "id": "e689667e-7a45-40d6-9eae-4e52cbc7daab",
   "metadata": {},
   "outputs": [
    {
     "name": "stdout",
     "output_type": "stream",
     "text": [
      "[客户问题] 我的预算有限，这台电脑似乎超出了我的预算。 \n",
      "[销售回答] 我理解您的预算考虑，让我们看看哪些配置是您真正需要的，也许我们可以调整配置来满足您的预算，同时保证您的核心需求得到满足。\n",
      "\n",
      "[客户问题] 我不确定我是否需要这么高配置的电脑。 \n",
      "[销售回答] 没问题，让我们先了解一下您通常会用电脑做什么，这样我可以帮您找到最适合您需求的配置。\n",
      "\n",
      "[客户问题] 我为什么要选择你们的品牌，而不是其他更知名的品牌呢？ \n",
      "[销售回答] 我们的品牌致力于为客户提供最优质的产品和服务。相比其他品牌，我们提供更个性化的服务和更有竞争力的价格，同时保证了高品质和良好的售后支持。\n",
      "\n",
      "[客户问题] 我需要一台可以处理高强度工作任务的电脑，你们有合适的推荐吗？ \n",
      "[销售回答] 当然，我们的高性能系列电脑专为处理复杂任务和高负载工作设计，它们搭载了最新的处理器和高速内存，可以满足您的所有工作需求。\n",
      "\n",
      "[客户问题] 我担心购买后可能遇到技术问题。 \n",
      "[销售回答] 我们提供全面的售后服务保障，包括详尽的用户手册和专业的客服支持。如果您遇到任何问题，我们随时准备帮助您解决。\n",
      "\n",
      "[客户问题] 我不太懂电脑配置，不知道怎么选择。\n",
      "[销售回答] 没问题，我们来一步步了解您的需求。您主要用电脑来做什么呢？我会根据您的使用场景为您推荐最合适的配置。\n",
      "\n",
      "[客户问题] 我需要一台游戏电脑，但不想花太多钱。\n",
      "[销售回答] 我明白您的预算考虑，我们有多款性价比高的游戏电脑可以满足您的需求，同时不会超出预算。让我给您介绍一下这款性能优异的电脑。\n",
      "\n",
      "[客户问题] 这台电脑的保修期是多久？\n",
      "[销售回答] 这台电脑享有三年的全国联保服务，任何质量问题都可以免费维修，让您购买无忧。\n",
      "\n",
      "[客户问题] 我经常出差，需要一台轻便的笔记本电脑。\n",
      "[销售回答] 我推荐您看看我们的超薄系列笔记本，它们不仅轻便，而且续航能力强，非常适合经常出差的用户。\n",
      "\n",
      "[客户问题] 我担心电脑到货后不会安装软件。\n",
      "[销售回答] 我们提供上门安装服务，还有详细的使用指导和技术支持，确保您购买后可以无忧使用。\n",
      "\n",
      "[客户问题] 你们的电脑和其他品牌相比有什么优势？\n",
      "[销售回答] 我们的电脑采用了最新的技术和高质量的组件，性能稳定，而且我们提供个性化定制服务，可以根据您的需求量身打造专属电脑。\n",
      "\n",
      "[客户问题] 我需要一台可以处理图形设计工作的电脑。\n",
      "[销售回答] 对于图形设计，您需要一台有强大图形处理能力的电脑。我们这款电脑搭载了高性能显卡和大内存，可以流畅运行各种设计软件。\n",
      "\n",
      "[客户问题] 我需要一台性能好但是外观也要时尚的电脑。\n",
      "[销售回答] 我们的这款电脑不仅性能强大，而且设计时尚，有多种颜色可选，非常符合您的要求。\n",
      "\n",
      "[客户问题] 我家里的网络不太好，这台电脑的网络连接性能怎么样？\n",
      "[销售回答] 这台电脑支持最新的无线连接技术，即使在信号不佳的环境下也能保持稳定的网络连接，不会影响您的上网体验。\n",
      "\n",
      "[客户问题] 我不确定我的配件是否兼容这台电脑。\n",
      "[销售回答] 您可以告诉我您现有的配件型号，我会帮您检查兼容性，并提供最佳的建议。\n",
      "\n",
      "这些话术覆盖了不同客户的常见问题和疑虑，您可以根据这些模板发展出更多适合不同情况的销售话术。\n",
      "\n"
     ]
    }
   ],
   "source": [
    "for ans in answer_list:\n",
    "    print(ans.page_content + \"\\n\")"
   ]
  },
  {
   "cell_type": "code",
   "execution_count": 44,
   "id": "a6cc47bf-1566-472f-84d2-a46bd634907c",
   "metadata": {},
   "outputs": [],
   "source": [
    "db.save_local(\"real_estates_sale\")"
   ]
  },
  {
   "cell_type": "markdown",
   "id": "0d5323e5-03fa-4c1c-b896-3ccc28af1857",
   "metadata": {},
   "source": [
    "### 使用 retriever 从向量数据库中获取结果\n",
    "\n",
    "#### 使用参数 `k` 指定返回结果数量\n"
   ]
  },
  {
   "cell_type": "code",
   "execution_count": 45,
   "id": "17f051c9-8676-48d1-a9a4-e69b52630faf",
   "metadata": {},
   "outputs": [],
   "source": [
    "# 实例化一个 TopK Retriever\n",
    "topK_retriever = db.as_retriever(search_kwargs={\"k\": 3})"
   ]
  },
  {
   "cell_type": "code",
   "execution_count": 46,
   "id": "e33024db-ca7b-4d68-9b0e-c31c15ded57d",
   "metadata": {},
   "outputs": [
    {
     "data": {
      "text/plain": [
       "VectorStoreRetriever(tags=['FAISS', 'OpenAIEmbeddings'], vectorstore=<langchain_community.vectorstores.faiss.FAISS object at 0x000001F58ABEB970>, search_kwargs={'k': 3})"
      ]
     },
     "execution_count": 46,
     "metadata": {},
     "output_type": "execute_result"
    }
   ],
   "source": [
    "topK_retriever"
   ]
  },
  {
   "cell_type": "code",
   "execution_count": 47,
   "id": "7efb1414-859f-4818-bacd-e1e2edf34b95",
   "metadata": {},
   "outputs": [
    {
     "name": "stdout",
     "output_type": "stream",
     "text": [
      "[客户问题] 我的预算有限，这台电脑似乎超出了我的预算。 \n",
      "[销售回答] 我理解您的预算考虑，让我们看看哪些配置是您真正需要的，也许我们可以调整配置来满足您的预算，同时保证您的核心需求得到满足。\n",
      "\n",
      "[客户问题] 我不确定我是否需要这么高配置的电脑。 \n",
      "[销售回答] 没问题，让我们先了解一下您通常会用电脑做什么，这样我可以帮您找到最适合您需求的配置。\n",
      "\n",
      "[客户问题] 我为什么要选择你们的品牌，而不是其他更知名的品牌呢？ \n",
      "[销售回答] 我们的品牌致力于为客户提供最优质的产品和服务。相比其他品牌，我们提供更个性化的服务和更有竞争力的价格，同时保证了高品质和良好的售后支持。\n",
      "\n",
      "[客户问题] 我需要一台可以处理高强度工作任务的电脑，你们有合适的推荐吗？ \n",
      "[销售回答] 当然，我们的高性能系列电脑专为处理复杂任务和高负载工作设计，它们搭载了最新的处理器和高速内存，可以满足您的所有工作需求。\n",
      "\n",
      "[客户问题] 我担心购买后可能遇到技术问题。 \n",
      "[销售回答] 我们提供全面的售后服务保障，包括详尽的用户手册和专业的客服支持。如果您遇到任何问题，我们随时准备帮助您解决。\n",
      "\n",
      "[客户问题] 我不太懂电脑配置，不知道怎么选择。\n",
      "[销售回答] 没问题，我们来一步步了解您的需求。您主要用电脑来做什么呢？我会根据您的使用场景为您推荐最合适的配置。\n",
      "\n",
      "[客户问题] 我需要一台游戏电脑，但不想花太多钱。\n",
      "[销售回答] 我明白您的预算考虑，我们有多款性价比高的游戏电脑可以满足您的需求，同时不会超出预算。让我给您介绍一下这款性能优异的电脑。\n",
      "\n",
      "[客户问题] 这台电脑的保修期是多久？\n",
      "[销售回答] 这台电脑享有三年的全国联保服务，任何质量问题都可以免费维修，让您购买无忧。\n",
      "\n",
      "[客户问题] 我经常出差，需要一台轻便的笔记本电脑。\n",
      "[销售回答] 我推荐您看看我们的超薄系列笔记本，它们不仅轻便，而且续航能力强，非常适合经常出差的用户。\n",
      "\n",
      "[客户问题] 我担心电脑到货后不会安装软件。\n",
      "[销售回答] 我们提供上门安装服务，还有详细的使用指导和技术支持，确保您购买后可以无忧使用。\n",
      "\n",
      "[客户问题] 你们的电脑和其他品牌相比有什么优势？\n",
      "[销售回答] 我们的电脑采用了最新的技术和高质量的组件，性能稳定，而且我们提供个性化定制服务，可以根据您的需求量身打造专属电脑。\n",
      "\n",
      "[客户问题] 我需要一台可以处理图形设计工作的电脑。\n",
      "[销售回答] 对于图形设计，您需要一台有强大图形处理能力的电脑。我们这款电脑搭载了高性能显卡和大内存，可以流畅运行各种设计软件。\n",
      "\n",
      "[客户问题] 我需要一台性能好但是外观也要时尚的电脑。\n",
      "[销售回答] 我们的这款电脑不仅性能强大，而且设计时尚，有多种颜色可选，非常符合您的要求。\n",
      "\n",
      "[客户问题] 我家里的网络不太好，这台电脑的网络连接性能怎么样？\n",
      "[销售回答] 这台电脑支持最新的无线连接技术，即使在信号不佳的环境下也能保持稳定的网络连接，不会影响您的上网体验。\n",
      "\n",
      "[客户问题] 我不确定我的配件是否兼容这台电脑。\n",
      "[销售回答] 您可以告诉我您现有的配件型号，我会帮您检查兼容性，并提供最佳的建议。\n",
      "\n",
      "这些话术覆盖了不同客户的常见问题和疑虑，您可以根据这些模板发展出更多适合不同情况的销售话术。\n",
      "\n"
     ]
    }
   ],
   "source": [
    "docs = topK_retriever.get_relevant_documents(query)\n",
    "for doc in docs:\n",
    "    print(doc.page_content + \"\\n\")"
   ]
  },
  {
   "cell_type": "code",
   "execution_count": 48,
   "id": "a3c4b62d-6f8f-461b-a4fb-41c8a404b831",
   "metadata": {},
   "outputs": [],
   "source": [
    "docs = topK_retriever.get_relevant_documents(\"你们有没有1000万的电脑啊？\")"
   ]
  },
  {
   "cell_type": "code",
   "execution_count": 49,
   "id": "04cca3d7-23d9-491f-8350-faeb19861dec",
   "metadata": {},
   "outputs": [
    {
     "name": "stdout",
     "output_type": "stream",
     "text": [
      "[客户问题] 我的预算有限，这台电脑似乎超出了我的预算。 \n",
      "[销售回答] 我理解您的预算考虑，让我们看看哪些配置是您真正需要的，也许我们可以调整配置来满足您的预算，同时保证您的核心需求得到满足。\n",
      "\n",
      "[客户问题] 我不确定我是否需要这么高配置的电脑。 \n",
      "[销售回答] 没问题，让我们先了解一下您通常会用电脑做什么，这样我可以帮您找到最适合您需求的配置。\n",
      "\n",
      "[客户问题] 我为什么要选择你们的品牌，而不是其他更知名的品牌呢？ \n",
      "[销售回答] 我们的品牌致力于为客户提供最优质的产品和服务。相比其他品牌，我们提供更个性化的服务和更有竞争力的价格，同时保证了高品质和良好的售后支持。\n",
      "\n",
      "[客户问题] 我需要一台可以处理高强度工作任务的电脑，你们有合适的推荐吗？ \n",
      "[销售回答] 当然，我们的高性能系列电脑专为处理复杂任务和高负载工作设计，它们搭载了最新的处理器和高速内存，可以满足您的所有工作需求。\n",
      "\n",
      "[客户问题] 我担心购买后可能遇到技术问题。 \n",
      "[销售回答] 我们提供全面的售后服务保障，包括详尽的用户手册和专业的客服支持。如果您遇到任何问题，我们随时准备帮助您解决。\n",
      "\n",
      "[客户问题] 我不太懂电脑配置，不知道怎么选择。\n",
      "[销售回答] 没问题，我们来一步步了解您的需求。您主要用电脑来做什么呢？我会根据您的使用场景为您推荐最合适的配置。\n",
      "\n",
      "[客户问题] 我需要一台游戏电脑，但不想花太多钱。\n",
      "[销售回答] 我明白您的预算考虑，我们有多款性价比高的游戏电脑可以满足您的需求，同时不会超出预算。让我给您介绍一下这款性能优异的电脑。\n",
      "\n",
      "[客户问题] 这台电脑的保修期是多久？\n",
      "[销售回答] 这台电脑享有三年的全国联保服务，任何质量问题都可以免费维修，让您购买无忧。\n",
      "\n",
      "[客户问题] 我经常出差，需要一台轻便的笔记本电脑。\n",
      "[销售回答] 我推荐您看看我们的超薄系列笔记本，它们不仅轻便，而且续航能力强，非常适合经常出差的用户。\n",
      "\n",
      "[客户问题] 我担心电脑到货后不会安装软件。\n",
      "[销售回答] 我们提供上门安装服务，还有详细的使用指导和技术支持，确保您购买后可以无忧使用。\n",
      "\n",
      "[客户问题] 你们的电脑和其他品牌相比有什么优势？\n",
      "[销售回答] 我们的电脑采用了最新的技术和高质量的组件，性能稳定，而且我们提供个性化定制服务，可以根据您的需求量身打造专属电脑。\n",
      "\n",
      "[客户问题] 我需要一台可以处理图形设计工作的电脑。\n",
      "[销售回答] 对于图形设计，您需要一台有强大图形处理能力的电脑。我们这款电脑搭载了高性能显卡和大内存，可以流畅运行各种设计软件。\n",
      "\n",
      "[客户问题] 我需要一台性能好但是外观也要时尚的电脑。\n",
      "[销售回答] 我们的这款电脑不仅性能强大，而且设计时尚，有多种颜色可选，非常符合您的要求。\n",
      "\n",
      "[客户问题] 我家里的网络不太好，这台电脑的网络连接性能怎么样？\n",
      "[销售回答] 这台电脑支持最新的无线连接技术，即使在信号不佳的环境下也能保持稳定的网络连接，不会影响您的上网体验。\n",
      "\n",
      "[客户问题] 我不确定我的配件是否兼容这台电脑。\n",
      "[销售回答] 您可以告诉我您现有的配件型号，我会帮您检查兼容性，并提供最佳的建议。\n",
      "\n",
      "这些话术覆盖了不同客户的常见问题和疑虑，您可以根据这些模板发展出更多适合不同情况的销售话术。\n",
      "\n"
     ]
    }
   ],
   "source": [
    "for doc in docs:\n",
    "    print(doc.page_content + \"\\n\")"
   ]
  },
  {
   "cell_type": "markdown",
   "id": "b335c9e5-bc01-4a47-916c-03bec0e7a839",
   "metadata": {},
   "source": [
    "#### 使用 similarity_score_threshold 设置阈值，提升结果的相关性质量"
   ]
  },
  {
   "cell_type": "code",
   "execution_count": 55,
   "id": "b1298956-6cf3-4a68-a3c2-a3149f64f156",
   "metadata": {},
   "outputs": [],
   "source": [
    "# 实例化一个 similarity_score_threshold Retriever\n",
    "retriever = db.as_retriever(\n",
    "    search_type=\"similarity_score_threshold\",\n",
    "    search_kwargs={\"score_threshold\": 0.6}\n",
    ")"
   ]
  },
  {
   "cell_type": "code",
   "execution_count": 56,
   "id": "d61167de-72ed-4618-a2e1-5df04784a3bc",
   "metadata": {},
   "outputs": [
    {
     "name": "stdout",
     "output_type": "stream",
     "text": [
      "[客户问题] 我的预算有限，这台电脑似乎超出了我的预算。 \n",
      "[销售回答] 我理解您的预算考虑，让我们看看哪些配置是您真正需要的，也许我们可以调整配置来满足您的预算，同时保证您的核心需求得到满足。\n",
      "\n",
      "[客户问题] 我不确定我是否需要这么高配置的电脑。 \n",
      "[销售回答] 没问题，让我们先了解一下您通常会用电脑做什么，这样我可以帮您找到最适合您需求的配置。\n",
      "\n",
      "[客户问题] 我为什么要选择你们的品牌，而不是其他更知名的品牌呢？ \n",
      "[销售回答] 我们的品牌致力于为客户提供最优质的产品和服务。相比其他品牌，我们提供更个性化的服务和更有竞争力的价格，同时保证了高品质和良好的售后支持。\n",
      "\n",
      "[客户问题] 我需要一台可以处理高强度工作任务的电脑，你们有合适的推荐吗？ \n",
      "[销售回答] 当然，我们的高性能系列电脑专为处理复杂任务和高负载工作设计，它们搭载了最新的处理器和高速内存，可以满足您的所有工作需求。\n",
      "\n",
      "[客户问题] 我担心购买后可能遇到技术问题。 \n",
      "[销售回答] 我们提供全面的售后服务保障，包括详尽的用户手册和专业的客服支持。如果您遇到任何问题，我们随时准备帮助您解决。\n",
      "\n",
      "[客户问题] 我不太懂电脑配置，不知道怎么选择。\n",
      "[销售回答] 没问题，我们来一步步了解您的需求。您主要用电脑来做什么呢？我会根据您的使用场景为您推荐最合适的配置。\n",
      "\n",
      "[客户问题] 我需要一台游戏电脑，但不想花太多钱。\n",
      "[销售回答] 我明白您的预算考虑，我们有多款性价比高的游戏电脑可以满足您的需求，同时不会超出预算。让我给您介绍一下这款性能优异的电脑。\n",
      "\n",
      "[客户问题] 这台电脑的保修期是多久？\n",
      "[销售回答] 这台电脑享有三年的全国联保服务，任何质量问题都可以免费维修，让您购买无忧。\n",
      "\n",
      "[客户问题] 我经常出差，需要一台轻便的笔记本电脑。\n",
      "[销售回答] 我推荐您看看我们的超薄系列笔记本，它们不仅轻便，而且续航能力强，非常适合经常出差的用户。\n",
      "\n",
      "[客户问题] 我担心电脑到货后不会安装软件。\n",
      "[销售回答] 我们提供上门安装服务，还有详细的使用指导和技术支持，确保您购买后可以无忧使用。\n",
      "\n",
      "[客户问题] 你们的电脑和其他品牌相比有什么优势？\n",
      "[销售回答] 我们的电脑采用了最新的技术和高质量的组件，性能稳定，而且我们提供个性化定制服务，可以根据您的需求量身打造专属电脑。\n",
      "\n",
      "[客户问题] 我需要一台可以处理图形设计工作的电脑。\n",
      "[销售回答] 对于图形设计，您需要一台有强大图形处理能力的电脑。我们这款电脑搭载了高性能显卡和大内存，可以流畅运行各种设计软件。\n",
      "\n",
      "[客户问题] 我需要一台性能好但是外观也要时尚的电脑。\n",
      "[销售回答] 我们的这款电脑不仅性能强大，而且设计时尚，有多种颜色可选，非常符合您的要求。\n",
      "\n",
      "[客户问题] 我家里的网络不太好，这台电脑的网络连接性能怎么样？\n",
      "[销售回答] 这台电脑支持最新的无线连接技术，即使在信号不佳的环境下也能保持稳定的网络连接，不会影响您的上网体验。\n",
      "\n",
      "[客户问题] 我不确定我的配件是否兼容这台电脑。\n",
      "[销售回答] 您可以告诉我您现有的配件型号，我会帮您检查兼容性，并提供最佳的建议。\n",
      "\n",
      "这些话术覆盖了不同客户的常见问题和疑虑，您可以根据这些模板发展出更多适合不同情况的销售话术。\n",
      "\n"
     ]
    }
   ],
   "source": [
    "docs = retriever.get_relevant_documents(query)\n",
    "for doc in docs:\n",
    "    print(doc.page_content + \"\\n\")"
   ]
  },
  {
   "cell_type": "code",
   "execution_count": null,
   "id": "548d1b52-6fa2-46d6-9218-908db572f380",
   "metadata": {},
   "outputs": [],
   "source": []
  },
  {
   "cell_type": "markdown",
   "id": "c31344ce-f952-4604-b700-fdbb34da1e28",
   "metadata": {},
   "source": [
    "### 提取向量数据库中的`销售回答`"
   ]
  },
  {
   "cell_type": "code",
   "execution_count": 57,
   "id": "25768463-da65-4762-978d-51c0c3a9c24b",
   "metadata": {},
   "outputs": [],
   "source": [
    "docs = retriever.get_relevant_documents(query)"
   ]
  },
  {
   "cell_type": "code",
   "execution_count": 58,
   "id": "4838d3da-dca3-4c31-80da-cec75760a833",
   "metadata": {},
   "outputs": [
    {
     "data": {
      "text/plain": [
       "'[客户问题] 我的预算有限，这台电脑似乎超出了我的预算。 \\n[销售回答] 我理解您的预算考虑，让我们看看哪些配置是您真正需要的，也许我们可以调整配置来满足您的预算，同时保证您的核心需求得到满足。\\n\\n[客户问题] 我不确定我是否需要这么高配置的电脑。 \\n[销售回答] 没问题，让我们先了解一下您通常会用电脑做什么，这样我可以帮您找到最适合您需求的配置。\\n\\n[客户问题] 我为什么要选择你们的品牌，而不是其他更知名的品牌呢？ \\n[销售回答] 我们的品牌致力于为客户提供最优质的产品和服务。相比其他品牌，我们提供更个性化的服务和更有竞争力的价格，同时保证了高品质和良好的售后支持。\\n\\n[客户问题] 我需要一台可以处理高强度工作任务的电脑，你们有合适的推荐吗？ \\n[销售回答] 当然，我们的高性能系列电脑专为处理复杂任务和高负载工作设计，它们搭载了最新的处理器和高速内存，可以满足您的所有工作需求。\\n\\n[客户问题] 我担心购买后可能遇到技术问题。 \\n[销售回答] 我们提供全面的售后服务保障，包括详尽的用户手册和专业的客服支持。如果您遇到任何问题，我们随时准备帮助您解决。\\n\\n[客户问题] 我不太懂电脑配置，不知道怎么选择。\\n[销售回答] 没问题，我们来一步步了解您的需求。您主要用电脑来做什么呢？我会根据您的使用场景为您推荐最合适的配置。\\n\\n[客户问题] 我需要一台游戏电脑，但不想花太多钱。\\n[销售回答] 我明白您的预算考虑，我们有多款性价比高的游戏电脑可以满足您的需求，同时不会超出预算。让我给您介绍一下这款性能优异的电脑。\\n\\n[客户问题] 这台电脑的保修期是多久？\\n[销售回答] 这台电脑享有三年的全国联保服务，任何质量问题都可以免费维修，让您购买无忧。\\n\\n[客户问题] 我经常出差，需要一台轻便的笔记本电脑。\\n[销售回答] 我推荐您看看我们的超薄系列笔记本，它们不仅轻便，而且续航能力强，非常适合经常出差的用户。\\n\\n[客户问题] 我担心电脑到货后不会安装软件。\\n[销售回答] 我们提供上门安装服务，还有详细的使用指导和技术支持，确保您购买后可以无忧使用。\\n\\n[客户问题] 你们的电脑和其他品牌相比有什么优势？\\n[销售回答] 我们的电脑采用了最新的技术和高质量的组件，性能稳定，而且我们提供个性化定制服务，可以根据您的需求量身打造专属电脑。\\n\\n[客户问题] 我需要一台可以处理图形设计工作的电脑。\\n[销售回答] 对于图形设计，您需要一台有强大图形处理能力的电脑。我们这款电脑搭载了高性能显卡和大内存，可以流畅运行各种设计软件。\\n\\n[客户问题] 我需要一台性能好但是外观也要时尚的电脑。\\n[销售回答] 我们的这款电脑不仅性能强大，而且设计时尚，有多种颜色可选，非常符合您的要求。\\n\\n[客户问题] 我家里的网络不太好，这台电脑的网络连接性能怎么样？\\n[销售回答] 这台电脑支持最新的无线连接技术，即使在信号不佳的环境下也能保持稳定的网络连接，不会影响您的上网体验。\\n\\n[客户问题] 我不确定我的配件是否兼容这台电脑。\\n[销售回答] 您可以告诉我您现有的配件型号，我会帮您检查兼容性，并提供最佳的建议。\\n\\n这些话术覆盖了不同客户的常见问题和疑虑，您可以根据这些模板发展出更多适合不同情况的销售话术。'"
      ]
     },
     "execution_count": 58,
     "metadata": {},
     "output_type": "execute_result"
    }
   ],
   "source": [
    "docs[0].page_content"
   ]
  },
  {
   "cell_type": "code",
   "execution_count": 59,
   "id": "1ba30232-f468-4102-b70c-02c8b74da43d",
   "metadata": {},
   "outputs": [
    {
     "data": {
      "text/plain": [
       "['[客户问题] 我的预算有限，这台电脑似乎超出了我的预算。 \\n',\n",
       " '我理解您的预算考虑，让我们看看哪些配置是您真正需要的，也许我们可以调整配置来满足您的预算，同时保证您的核心需求得到满足。\\n\\n[客户问题] 我不确定我是否需要这么高配置的电脑。 \\n',\n",
       " '没问题，让我们先了解一下您通常会用电脑做什么，这样我可以帮您找到最适合您需求的配置。\\n\\n[客户问题] 我为什么要选择你们的品牌，而不是其他更知名的品牌呢？ \\n',\n",
       " '我们的品牌致力于为客户提供最优质的产品和服务。相比其他品牌，我们提供更个性化的服务和更有竞争力的价格，同时保证了高品质和良好的售后支持。\\n\\n[客户问题] 我需要一台可以处理高强度工作任务的电脑，你们有合适的推荐吗？ \\n',\n",
       " '当然，我们的高性能系列电脑专为处理复杂任务和高负载工作设计，它们搭载了最新的处理器和高速内存，可以满足您的所有工作需求。\\n\\n[客户问题] 我担心购买后可能遇到技术问题。 \\n',\n",
       " '我们提供全面的售后服务保障，包括详尽的用户手册和专业的客服支持。如果您遇到任何问题，我们随时准备帮助您解决。\\n\\n[客户问题] 我不太懂电脑配置，不知道怎么选择。\\n',\n",
       " '没问题，我们来一步步了解您的需求。您主要用电脑来做什么呢？我会根据您的使用场景为您推荐最合适的配置。\\n\\n[客户问题] 我需要一台游戏电脑，但不想花太多钱。\\n',\n",
       " '我明白您的预算考虑，我们有多款性价比高的游戏电脑可以满足您的需求，同时不会超出预算。让我给您介绍一下这款性能优异的电脑。\\n\\n[客户问题] 这台电脑的保修期是多久？\\n',\n",
       " '这台电脑享有三年的全国联保服务，任何质量问题都可以免费维修，让您购买无忧。\\n\\n[客户问题] 我经常出差，需要一台轻便的笔记本电脑。\\n',\n",
       " '我推荐您看看我们的超薄系列笔记本，它们不仅轻便，而且续航能力强，非常适合经常出差的用户。\\n\\n[客户问题] 我担心电脑到货后不会安装软件。\\n',\n",
       " '我们提供上门安装服务，还有详细的使用指导和技术支持，确保您购买后可以无忧使用。\\n\\n[客户问题] 你们的电脑和其他品牌相比有什么优势？\\n',\n",
       " '我们的电脑采用了最新的技术和高质量的组件，性能稳定，而且我们提供个性化定制服务，可以根据您的需求量身打造专属电脑。\\n\\n[客户问题] 我需要一台可以处理图形设计工作的电脑。\\n',\n",
       " '对于图形设计，您需要一台有强大图形处理能力的电脑。我们这款电脑搭载了高性能显卡和大内存，可以流畅运行各种设计软件。\\n\\n[客户问题] 我需要一台性能好但是外观也要时尚的电脑。\\n',\n",
       " '我们的这款电脑不仅性能强大，而且设计时尚，有多种颜色可选，非常符合您的要求。\\n\\n[客户问题] 我家里的网络不太好，这台电脑的网络连接性能怎么样？\\n',\n",
       " '这台电脑支持最新的无线连接技术，即使在信号不佳的环境下也能保持稳定的网络连接，不会影响您的上网体验。\\n\\n[客户问题] 我不确定我的配件是否兼容这台电脑。\\n',\n",
       " '您可以告诉我您现有的配件型号，我会帮您检查兼容性，并提供最佳的建议。\\n\\n这些话术覆盖了不同客户的常见问题和疑虑，您可以根据这些模板发展出更多适合不同情况的销售话术。']"
      ]
     },
     "execution_count": 59,
     "metadata": {},
     "output_type": "execute_result"
    }
   ],
   "source": [
    "docs[0].page_content.split(\"[销售回答] \")"
   ]
  },
  {
   "cell_type": "code",
   "execution_count": 60,
   "id": "bda8eb0c-eb1f-47b2-91ab-4c94ff71c3db",
   "metadata": {},
   "outputs": [],
   "source": [
    "ans = docs[0].page_content.split(\"[销售回答] \")[-1]"
   ]
  },
  {
   "cell_type": "code",
   "execution_count": 61,
   "id": "917a3b6c-3149-42e2-b7b6-abebd94b7f72",
   "metadata": {},
   "outputs": [
    {
     "data": {
      "text/plain": [
       "'您可以告诉我您现有的配件型号，我会帮您检查兼容性，并提供最佳的建议。\\n\\n这些话术覆盖了不同客户的常见问题和疑虑，您可以根据这些模板发展出更多适合不同情况的销售话术。'"
      ]
     },
     "execution_count": 61,
     "metadata": {},
     "output_type": "execute_result"
    }
   ],
   "source": [
    "ans"
   ]
  },
  {
   "cell_type": "markdown",
   "id": "b36b61a5-156d-4546-bbd1-8a983e94676b",
   "metadata": {},
   "source": [
    "#### 尝试各种问题"
   ]
  },
  {
   "cell_type": "code",
   "execution_count": 62,
   "id": "c311a656-e571-45d6-8690-88e4be2c2a65",
   "metadata": {},
   "outputs": [],
   "source": [
    "from typing import List\n",
    "\n",
    "def sales(query: str, score_threshold: float=0.8) -> List[str]:\n",
    "    retriever = db.as_retriever(search_type=\"similarity_score_threshold\", search_kwargs={\"score_threshold\": score_threshold})    \n",
    "    docs = retriever.get_relevant_documents(query)\n",
    "    ans_list = [doc.page_content.split(\"[销售回答] \")[-1] for doc in docs]\n",
    "\n",
    "    return ans_list"
   ]
  },
  {
   "cell_type": "code",
   "execution_count": 64,
   "id": "2f4c6c08-b97c-4727-9aa1-a474d85a11e4",
   "metadata": {},
   "outputs": [
    {
     "name": "stdout",
     "output_type": "stream",
     "text": [
      "[]\n"
     ]
    },
    {
     "name": "stderr",
     "output_type": "stream",
     "text": [
      "c:\\ProgramData\\miniconda3\\envs\\langchain\\lib\\site-packages\\langchain_core\\vectorstores\\base.py:796: UserWarning: No relevant docs were retrieved using the relevance score threshold 0.8\n",
      "  warnings.warn(\n"
     ]
    }
   ],
   "source": [
    "query = \"我想轻便一点\"\n",
    "\n",
    "print(sales(query))"
   ]
  },
  {
   "cell_type": "code",
   "execution_count": 65,
   "id": "11e3d8b6-839f-4b2f-b519-841e0271f95b",
   "metadata": {},
   "outputs": [
    {
     "name": "stdout",
     "output_type": "stream",
     "text": [
      "[]\n"
     ]
    },
    {
     "name": "stderr",
     "output_type": "stream",
     "text": [
      "c:\\ProgramData\\miniconda3\\envs\\langchain\\lib\\site-packages\\langchain_core\\vectorstores\\base.py:796: UserWarning: No relevant docs were retrieved using the relevance score threshold 0.75\n",
      "  warnings.warn(\n"
     ]
    }
   ],
   "source": [
    "print(sales(query, 0.75))"
   ]
  },
  {
   "cell_type": "code",
   "execution_count": 66,
   "id": "fc5b030a-ae6f-4d42-9577-1420c78aecb1",
   "metadata": {},
   "outputs": [
    {
     "name": "stderr",
     "output_type": "stream",
     "text": [
      "c:\\ProgramData\\miniconda3\\envs\\langchain\\lib\\site-packages\\langchain_core\\vectorstores\\base.py:796: UserWarning: No relevant docs were retrieved using the relevance score threshold 0.8\n",
      "  warnings.warn(\n"
     ]
    },
    {
     "name": "stdout",
     "output_type": "stream",
     "text": [
      "score:0.8 ans: []\n",
      "\n"
     ]
    },
    {
     "name": "stderr",
     "output_type": "stream",
     "text": [
      "c:\\ProgramData\\miniconda3\\envs\\langchain\\lib\\site-packages\\langchain_core\\vectorstores\\base.py:796: UserWarning: No relevant docs were retrieved using the relevance score threshold 0.75\n",
      "  warnings.warn(\n"
     ]
    },
    {
     "name": "stdout",
     "output_type": "stream",
     "text": [
      "score:0.75 ans: []\n",
      "\n",
      "score:0.5 ans: ['您可以告诉我您现有的配件型号，我会帮您检查兼容性，并提供最佳的建议。\\n\\n这些话术覆盖了不同客户的常见问题和疑虑，您可以根据这些模板发展出更多适合不同情况的销售话术。']\n",
      "\n"
     ]
    }
   ],
   "source": [
    "query = \"价格200万以内\"\n",
    "\n",
    "print(f\"score:0.8 ans: {sales(query)}\\n\")\n",
    "print(f\"score:0.75 ans: {sales(query, 0.75)}\\n\")\n",
    "print(f\"score:0.5 ans: {sales(query, 0.5)}\\n\")"
   ]
  },
  {
   "cell_type": "markdown",
   "id": "9e26e6d7-259b-4ecf-9c72-027befba4e3b",
   "metadata": {},
   "source": [
    "#### 当向量数据库中没有合适答案时，使用大语言模型能力"
   ]
  },
  {
   "cell_type": "code",
   "execution_count": 69,
   "id": "9142feb4-980a-4142-b367-1401021dceef",
   "metadata": {},
   "outputs": [],
   "source": [
    "from langchain.chains import RetrievalQA\n",
    "from langchain_openai import ChatOpenAI\n",
    "\n",
    "llm = ChatOpenAI(model_name=\"gpt-4-1106-preview\", temperature=0.5,base_url= os.getenv(\"BASE_URL\"))\n",
    "qa_chain = RetrievalQA.from_chain_type(llm,\n",
    "                                       retriever=db.as_retriever(search_type=\"similarity_score_threshold\",\n",
    "                                                                 search_kwargs={\"score_threshold\": 0.8}))"
   ]
  },
  {
   "cell_type": "code",
   "execution_count": 70,
   "id": "d281b560-54bb-4a25-a1dc-b23874361654",
   "metadata": {},
   "outputs": [
    {
     "name": "stderr",
     "output_type": "stream",
     "text": [
      "c:\\ProgramData\\miniconda3\\envs\\langchain\\lib\\site-packages\\langchain_core\\vectorstores\\base.py:796: UserWarning: No relevant docs were retrieved using the relevance score threshold 0.8\n",
      "  warnings.warn(\n"
     ]
    },
    {
     "data": {
      "text/plain": [
       "{'query': '你们有200万的电脑吗？', 'result': '我不知道。'}"
      ]
     },
     "execution_count": 70,
     "metadata": {},
     "output_type": "execute_result"
    }
   ],
   "source": [
    "qa_chain({\"query\": \"你们有200万的电脑吗？\"})"
   ]
  },
  {
   "cell_type": "code",
   "execution_count": 71,
   "id": "c6a30dcc-fa6b-4282-935c-b07902746e19",
   "metadata": {},
   "outputs": [
    {
     "name": "stderr",
     "output_type": "stream",
     "text": [
      "c:\\ProgramData\\miniconda3\\envs\\langchain\\lib\\site-packages\\langchain_core\\vectorstores\\base.py:796: UserWarning: No relevant docs were retrieved using the relevance score threshold 0.8\n",
      "  warnings.warn(\n"
     ]
    },
    {
     "data": {
      "text/plain": [
       "{'query': '有轻便的电脑么',\n",
       " 'result': '有很多轻便的电脑可供选择，通常被称为超轻薄笔记本或二合一设备。这些电脑通常设计得很轻巧，便于携带，适合日常办公、学习和娱乐。常见的品牌包括苹果的MacBook Air、戴尔的XPS系列、联想的ThinkPad X系列以及微软的Surface系列等。选择时可以根据自己的需求和预算进行比较。'}"
      ]
     },
     "execution_count": 71,
     "metadata": {},
     "output_type": "execute_result"
    }
   ],
   "source": [
    "qa_chain({\"query\": \"有轻便的电脑么\"})"
   ]
  },
  {
   "cell_type": "code",
   "execution_count": 72,
   "id": "9da44bd6-02ef-4fb6-8e9e-7c99aeba483a",
   "metadata": {},
   "outputs": [
    {
     "name": "stdout",
     "output_type": "stream",
     "text": [
      "[]\n"
     ]
    },
    {
     "name": "stderr",
     "output_type": "stream",
     "text": [
      "c:\\ProgramData\\miniconda3\\envs\\langchain\\lib\\site-packages\\langchain_core\\vectorstores\\base.py:796: UserWarning: No relevant docs were retrieved using the relevance score threshold 0.8\n",
      "  warnings.warn(\n"
     ]
    }
   ],
   "source": [
    "print(sales(\"有便宜的电脑么\"))"
   ]
  },
  {
   "cell_type": "code",
   "execution_count": null,
   "id": "9764bb10-44ed-47c9-a351-a68f4f7d4f44",
   "metadata": {},
   "outputs": [],
   "source": []
  },
  {
   "cell_type": "markdown",
   "id": "0a0647e8-5b41-4c93-87c2-3240ec558717",
   "metadata": {},
   "source": [
    "## 加载 FAISS 向量数据库已有结果"
   ]
  },
  {
   "cell_type": "code",
   "execution_count": 76,
   "id": "913edd04-37ea-4c3f-9346-086aeb0ab447",
   "metadata": {},
   "outputs": [],
   "source": [
    "from langchain_openai import OpenAIEmbeddings\n",
    "from langchain.vectorstores import FAISS\n",
    "\n",
    "db = FAISS.load_local(\"real_estates_sale\", OpenAIEmbeddings(base_url=os.getenv(\"BASE_URL\")),allow_dangerous_deserialization=True)"
   ]
  },
  {
   "cell_type": "code",
   "execution_count": 79,
   "id": "77d8eee4-6383-4b4a-9737-95ea9fc53b87",
   "metadata": {},
   "outputs": [],
   "source": [
    "from langchain.chains import RetrievalQA\n",
    "from langchain.chat_models import ChatOpenAI\n",
    "\n",
    "llm = ChatOpenAI(model_name=\"gpt-4\", temperature=0.5,base_url=os.getenv(\"BASE_URL\"))\n",
    "qa_chain = RetrievalQA.from_chain_type(llm,\n",
    "                                       retriever=db.as_retriever(search_type=\"similarity_score_threshold\",\n",
    "                                                                 search_kwargs={\"score_threshold\": 0.8}))"
   ]
  },
  {
   "cell_type": "code",
   "execution_count": 80,
   "id": "5dfac197-cadb-47d7-8cbe-1b07a83fc8e1",
   "metadata": {},
   "outputs": [
    {
     "name": "stderr",
     "output_type": "stream",
     "text": [
      "c:\\ProgramData\\miniconda3\\envs\\langchain\\lib\\site-packages\\langchain_core\\vectorstores\\base.py:796: UserWarning: No relevant docs were retrieved using the relevance score threshold 0.8\n",
      "  warnings.warn(\n"
     ]
    },
    {
     "data": {
      "text/plain": [
       "{'query': '我想买主机，你们有么', 'result': '我不知道。'}"
      ]
     },
     "execution_count": 80,
     "metadata": {},
     "output_type": "execute_result"
    }
   ],
   "source": [
    "qa_chain({\"query\": \"我想买主机，你们有么\"})"
   ]
  },
  {
   "cell_type": "code",
   "execution_count": 81,
   "id": "fc393afc-06d3-4483-bd24-efe000ef5f2a",
   "metadata": {},
   "outputs": [],
   "source": [
    "# 输出内部 Chain 的日志\n",
    "qa_chain.combine_documents_chain.verbose = True"
   ]
  },
  {
   "cell_type": "code",
   "execution_count": 82,
   "id": "013c313a-5e7c-48d1-8ed4-eee96e50a99c",
   "metadata": {},
   "outputs": [
    {
     "name": "stderr",
     "output_type": "stream",
     "text": [
      "c:\\ProgramData\\miniconda3\\envs\\langchain\\lib\\site-packages\\langchain_core\\vectorstores\\base.py:796: UserWarning: No relevant docs were retrieved using the relevance score threshold 0.8\n",
      "  warnings.warn(\n"
     ]
    },
    {
     "name": "stdout",
     "output_type": "stream",
     "text": [
      "\n",
      "\n",
      "\u001b[1m> Entering new StuffDocumentsChain chain...\u001b[0m\n",
      "\n",
      "\u001b[1m> Finished chain.\u001b[0m\n"
     ]
    },
    {
     "data": {
      "text/plain": [
       "{'query': '我想买笔记本，你们有么', 'result': '我不知道。'}"
      ]
     },
     "execution_count": 82,
     "metadata": {},
     "output_type": "execute_result"
    }
   ],
   "source": [
    "qa_chain({\"query\": \"我想买笔记本，你们有么\"})"
   ]
  },
  {
   "cell_type": "code",
   "execution_count": 83,
   "id": "e5fb0943-ffe9-4270-8dbe-f5f5314e6042",
   "metadata": {},
   "outputs": [],
   "source": [
    "# 返回向量数据库的检索结果\n",
    "qa_chain.return_source_documents = True"
   ]
  },
  {
   "cell_type": "code",
   "execution_count": 84,
   "id": "fbc1741e-d34f-4df5-874b-02b78e8cd67a",
   "metadata": {},
   "outputs": [
    {
     "name": "stderr",
     "output_type": "stream",
     "text": [
      "c:\\ProgramData\\miniconda3\\envs\\langchain\\lib\\site-packages\\langchain_core\\vectorstores\\base.py:796: UserWarning: No relevant docs were retrieved using the relevance score threshold 0.8\n",
      "  warnings.warn(\n"
     ]
    },
    {
     "name": "stdout",
     "output_type": "stream",
     "text": [
      "\n",
      "\n",
      "\u001b[1m> Entering new StuffDocumentsChain chain...\u001b[0m\n",
      "\n",
      "\u001b[1m> Finished chain.\u001b[0m\n"
     ]
    }
   ],
   "source": [
    "result = qa_chain({\"query\": \"我想买游戏本，你们有么\"})"
   ]
  },
  {
   "cell_type": "code",
   "execution_count": 85,
   "id": "fac8309c-033c-4144-ada0-08e74fa9bf2d",
   "metadata": {},
   "outputs": [
    {
     "data": {
      "text/plain": [
       "{'query': '我想买游戏本，你们有么', 'result': '我不知道。', 'source_documents': []}"
      ]
     },
     "execution_count": 85,
     "metadata": {},
     "output_type": "execute_result"
    }
   ],
   "source": [
    "result"
   ]
  },
  {
   "cell_type": "code",
   "execution_count": null,
   "id": "37de84df-999f-4469-9bbe-de9c95c6f6b3",
   "metadata": {},
   "outputs": [],
   "source": []
  }
 ],
 "metadata": {
  "kernelspec": {
   "display_name": "langchain",
   "language": "python",
   "name": "langchain"
  },
  "language_info": {
   "codemirror_mode": {
    "name": "ipython",
    "version": 3
   },
   "file_extension": ".py",
   "mimetype": "text/x-python",
   "name": "python",
   "nbconvert_exporter": "python",
   "pygments_lexer": "ipython3",
   "version": "3.10.14"
  }
 },
 "nbformat": 4,
 "nbformat_minor": 5
}
